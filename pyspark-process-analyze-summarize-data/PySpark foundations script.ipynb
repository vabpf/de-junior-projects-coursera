{
 "cells": [
  {
   "cell_type": "markdown",
   "id": "ab05ceb9-c258-4a22-bafe-1aa335d40b8f",
   "metadata": {},
   "source": [
    "# Process, analyze, and summarize data with Spark and PySpark"
   ]
  },
  {
   "cell_type": "markdown",
   "id": "e794cc26-aa69-4047-a690-2a342ebb524a",
   "metadata": {},
   "source": [
    "## Project Description\n",
    "\n",
    "Did you know that a billion records are processed daily in PySpark by companies worldwide? As big data is on the rise, you’ll need tools like PySpark to process massive amounts of data.\n",
    "\n",
    "This guided project was designed to introduce data analysts and data science beginners to data analysis in PySpark. This 2-hour project course teaches you how to create a PySpark environment, explore and clean large data, aggregate and summarize data, and visualize data using real-life examples. By the end of this guided project, you’ll create a Jupyter Notebook that processes, analyzes, and summarizes data using PySpark. By working on hands-on tasks, you will gain a solid knowledge of data aggregation and summarization with PySpark, helping you acquire job-ready skills. \n",
    "\n",
    "You don’t need any experience in PySpark, but knowledge of Python is essential to succeeding in this project."
   ]
  },
  {
   "cell_type": "markdown",
   "id": "156abaa0-8a56-4155-b441-18af5eeeacae",
   "metadata": {},
   "source": [
    "## Project Overview\n",
    "This project demonstrates how to process and analyze large datasets using PySpark, focusing on employees data. Tasks include data loading, cleaning, exploration, and aggregation, culminating in insights on employee salaries and demographics.\n",
    "\n",
    "### About the Dataset\n",
    "**employees.csv**: Contains employee details like employee numbers, names, birth dates, hire dates, etc.\n",
    "\n",
    "**updated_salaries.csv**: Contains salary details for each employee, including salary amounts and dates."
   ]
  },
  {
   "cell_type": "markdown",
   "id": "f9cd3c17-248d-4808-956f-21c01eff8e2d",
   "metadata": {},
   "source": [
    "# Task One: Set up and overview of the project\n",
    "In this task, you will get an overview of the project and set up the PySpark environment."
   ]
  },
  {
   "cell_type": "code",
   "execution_count": 1,
   "id": "b5cd815f-63b3-4e74-9b53-35237b7383da",
   "metadata": {},
   "outputs": [],
   "source": [
    "## Import required libraries\n",
    "import pandas as pd\n",
    "import matplotlib.pyplot as plt\n",
    "import seaborn as sns\n",
    "from pyspark.sql.functions import col, avg, max, min, countDistinct, sum, round"
   ]
  },
  {
   "cell_type": "code",
   "execution_count": 2,
   "id": "5e15426d-f29a-44b3-9335-9e64b31a7ed5",
   "metadata": {},
   "outputs": [],
   "source": [
    "## Set up PySpark environment\n",
    "from pyspark.sql import SparkSession"
   ]
  },
  {
   "cell_type": "code",
   "execution_count": 3,
   "id": "6c6ea312-498a-43f1-b68e-12d75abb805b",
   "metadata": {},
   "outputs": [
    {
     "data": {
      "text/html": [
       "\n",
       "            <div>\n",
       "                <p><b>SparkSession - in-memory</b></p>\n",
       "                \n",
       "        <div>\n",
       "            <p><b>SparkContext</b></p>\n",
       "\n",
       "            <p><a href=\"http://Vab:4040\">Spark UI</a></p>\n",
       "\n",
       "            <dl>\n",
       "              <dt>Version</dt>\n",
       "                <dd><code>v3.5.3</code></dd>\n",
       "              <dt>Master</dt>\n",
       "                <dd><code>local[*]</code></dd>\n",
       "              <dt>AppName</dt>\n",
       "                <dd><code>Spark Data Exploration</code></dd>\n",
       "            </dl>\n",
       "        </div>\n",
       "        \n",
       "            </div>\n",
       "        "
      ],
      "text/plain": [
       "<pyspark.sql.session.SparkSession at 0x1c9e4f7b4a0>"
      ]
     },
     "execution_count": 3,
     "metadata": {},
     "output_type": "execute_result"
    }
   ],
   "source": [
    "## Initialize the SparkSession\n",
    "spark = SparkSession.builder.appName(\"Spark Data Exploration\").getOrCreate()\n",
    "\n",
    "## Verify that SparkSession is created\n",
    "spark"
   ]
  },
  {
   "cell_type": "markdown",
   "id": "777bfd46-805d-466f-b6f7-9e0db5113efa",
   "metadata": {},
   "source": [
    "# Task Two: Load the data\n",
    "In this task, you will load the employees.csv and updated_salaries.csv data."
   ]
  },
  {
   "cell_type": "code",
   "execution_count": 4,
   "id": "3021b17b-9829-4cdb-921e-3c66d7744071",
   "metadata": {},
   "outputs": [
    {
     "name": "stdout",
     "output_type": "stream",
     "text": [
      "Employee data loaded successfully!\n"
     ]
    }
   ],
   "source": [
    "## Load the employees.csv dataset\n",
    "try:\n",
    "    emp_df = spark.read.csv('employees.csv', header=True, inferSchema=True)\n",
    "    print(\"Employee data loaded successfully!\")\n",
    "except Exception as e:\n",
    "    print(\"Error loading employee data:\", e)"
   ]
  },
  {
   "cell_type": "code",
   "execution_count": 5,
   "id": "2b6f5c39-3b6d-48f7-8196-64dd2f2216aa",
   "metadata": {},
   "outputs": [],
   "source": [
    "## Load the updated_salaries.csv dataset\n",
    "sal_df = spark.read.format('csv') \\\n",
    "    .option('header', 'true') \\\n",
    "    .option('inferSchema', 'true') \\\n",
    "    .load('updated_salaries.csv')"
   ]
  },
  {
   "cell_type": "code",
   "execution_count": 6,
   "id": "a403c092-bf3f-473a-9c36-d468f6e37baf",
   "metadata": {},
   "outputs": [
    {
     "name": "stdout",
     "output_type": "stream",
     "text": [
      "+------+----------+----------+---------+------+----------+\n",
      "|emp_no|birth_date|first_name|last_name|gender| hire_date|\n",
      "+------+----------+----------+---------+------+----------+\n",
      "| 10001|1953-09-02|    Georgi|  Facello|     M|1986-06-26|\n",
      "| 10002|1964-06-02|   Bezalel|   Simmel|     F|1985-11-21|\n",
      "| 10003|1959-12-03|     Parto|  Bamford|     M|1986-08-28|\n",
      "| 10004|1954-05-01| Chirstian|  Koblick|     M|1986-12-01|\n",
      "| 10005|1955-01-21|   Kyoichi| Maliniak|     M|1989-09-12|\n",
      "+------+----------+----------+---------+------+----------+\n",
      "only showing top 5 rows\n",
      "\n"
     ]
    }
   ],
   "source": [
    "## Show the first few rows of the employees data\n",
    "emp_df.show(5)"
   ]
  },
  {
   "cell_type": "code",
   "execution_count": 7,
   "id": "c7fabf1f-f9bf-4554-b65c-48771773c278",
   "metadata": {},
   "outputs": [
    {
     "name": "stdout",
     "output_type": "stream",
     "text": [
      "+------+------+-------+----------+----------+\n",
      "|emp_no|salary|dept_no| from_date|   to_date|\n",
      "+------+------+-------+----------+----------+\n",
      "| 10017| 71380|   d001|1993-08-03|1994-08-03|\n",
      "| 10017| 75538|   d001|1994-08-03|1995-08-03|\n",
      "| 10017| 79510|   d001|1995-08-03|1996-08-02|\n",
      "| 10017| 82163|   d001|1996-08-02|1997-08-02|\n",
      "| 10017| 86157|   d001|1997-08-02|1998-08-02|\n",
      "+------+------+-------+----------+----------+\n",
      "only showing top 5 rows\n",
      "\n"
     ]
    }
   ],
   "source": [
    "## Show the first few rows of the salaries data\n",
    "sal_df.show(5)"
   ]
  },
  {
   "cell_type": "code",
   "execution_count": 8,
   "id": "c3950863-3d2f-49ea-bb9a-3586570f535e",
   "metadata": {},
   "outputs": [
    {
     "name": "stdout",
     "output_type": "stream",
     "text": [
      "root\n",
      " |-- emp_no: integer (nullable = true)\n",
      " |-- birth_date: date (nullable = true)\n",
      " |-- first_name: string (nullable = true)\n",
      " |-- last_name: string (nullable = true)\n",
      " |-- gender: string (nullable = true)\n",
      " |-- hire_date: date (nullable = true)\n",
      "\n"
     ]
    }
   ],
   "source": [
    "## Print the schema for employees data\n",
    "emp_df.printSchema()"
   ]
  },
  {
   "cell_type": "code",
   "execution_count": 9,
   "id": "56f45eb2-beec-4e9e-9a1f-33d88c04841f",
   "metadata": {},
   "outputs": [
    {
     "name": "stdout",
     "output_type": "stream",
     "text": [
      "root\n",
      " |-- emp_no: integer (nullable = true)\n",
      " |-- salary: integer (nullable = true)\n",
      " |-- dept_no: string (nullable = true)\n",
      " |-- from_date: date (nullable = true)\n",
      " |-- to_date: date (nullable = true)\n",
      "\n"
     ]
    }
   ],
   "source": [
    "## Print the schema for salary data\n",
    "sal_df.printSchema()"
   ]
  },
  {
   "cell_type": "markdown",
   "id": "0812d9ee-e0a8-49f2-b6bc-bbb4ab853818",
   "metadata": {},
   "source": [
    "# Task Three: Clean and process the data\n",
    "In this task, you will perform quick data cleaning by converting variables to proper data types."
   ]
  },
  {
   "cell_type": "code",
   "execution_count": 10,
   "id": "8ae18cc0-f1f5-4b72-82fe-51995b4b3dec",
   "metadata": {},
   "outputs": [
    {
     "name": "stdout",
     "output_type": "stream",
     "text": [
      "root\n",
      " |-- emp_no: string (nullable = true)\n",
      " |-- birth_date: date (nullable = true)\n",
      " |-- first_name: string (nullable = true)\n",
      " |-- last_name: string (nullable = true)\n",
      " |-- gender: string (nullable = true)\n",
      " |-- hire_date: date (nullable = true)\n",
      "\n"
     ]
    }
   ],
   "source": [
    "from pyspark.sql.types import StringType\n",
    "\n",
    "## Cast the 'emp_no' column in the employees data to a string\n",
    "# emp_df = emp_df.withColumn(\"emp_no\", emp_df[\"emp_no\"].cast(StringType()))\n",
    "emp_df = emp_df.withColumn(\"emp_no\", emp_df[\"emp_no\"].cast(\"string\"))\n",
    "\n",
    "## Print the updated schema\n",
    "emp_df.printSchema()"
   ]
  },
  {
   "cell_type": "code",
   "execution_count": 11,
   "id": "fa8470fe-fa25-45a9-a420-3c877db60a3d",
   "metadata": {
    "scrolled": true
   },
   "outputs": [
    {
     "name": "stdout",
     "output_type": "stream",
     "text": [
      "root\n",
      " |-- emp_no: string (nullable = true)\n",
      " |-- salary: integer (nullable = true)\n",
      " |-- dept_no: string (nullable = true)\n",
      " |-- from_date: date (nullable = true)\n",
      " |-- to_date: date (nullable = true)\n",
      "\n"
     ]
    }
   ],
   "source": [
    "## Chain transformations to cast 'emp_no' to string and 'to_date' & 'from_date' to date\n",
    "sal_df = sal_df.withColumn(\"emp_no\", sal_df[\"emp_no\"].cast(\"string\")) \\\n",
    "              .withColumn(\"to_date\", sal_df[\"to_date\"].cast(\"date\")) \\\n",
    "              .withColumn(\"from_date\", sal_df[\"from_date\"].cast(\"date\"))\n",
    "\n",
    "## Show the updated schema\n",
    "sal_df.printSchema()"
   ]
  },
  {
   "cell_type": "markdown",
   "id": "bf8b03eb-41e9-4b5b-9571-42e96b86cb15",
   "metadata": {},
   "source": [
    "# Task Four: Explore the data\n",
    "In this task, you will explore the salaries data by computing summary statistics and visualizing the salary column."
   ]
  },
  {
   "cell_type": "code",
   "execution_count": 14,
   "id": "1ae9845e-704a-4f06-9d63-530fa0d7d424",
   "metadata": {},
   "outputs": [
    {
     "name": "stdout",
     "output_type": "stream",
     "text": [
      "+------+------+-------+---------+-------+\n",
      "|emp_no|salary|dept_no|from_date|to_date|\n",
      "+------+------+-------+---------+-------+\n",
      "|     0|     0|      0|        0|      0|\n",
      "+------+------+-------+---------+-------+\n",
      "\n"
     ]
    }
   ],
   "source": [
    "## Create a sum of missing values per column in the salary data\n",
    "sal_df.select([sum(col(c).isNull().cast(\"int\")).alias(c) for c in sal_df.columns]).show()"
   ]
  },
  {
   "cell_type": "code",
   "execution_count": 15,
   "id": "0a55da30-a71a-46c3-9cfb-a94bf36a21ae",
   "metadata": {
    "scrolled": true
   },
   "outputs": [
    {
     "name": "stdout",
     "output_type": "stream",
     "text": [
      "+-------+------------------+------------------+-------+\n",
      "|summary|            emp_no|            salary|dept_no|\n",
      "+-------+------------------+------------------+-------+\n",
      "|  count|           1048575|           1048575|1048575|\n",
      "|   mean|61678.835847698065| 63865.59273680948|   NULL|\n",
      "| stddev| 33649.23971333694|16950.036684461294|   NULL|\n",
      "|    min|            100000|             38735|   d001|\n",
      "|    max|             99999|            158220|   d009|\n",
      "+-------+------------------+------------------+-------+\n",
      "\n"
     ]
    }
   ],
   "source": [
    "## Create the summary statistics for the salary data\n",
    "sal_df.describe().show()"
   ]
  },
  {
   "cell_type": "code",
   "execution_count": 19,
   "id": "85285cb5-57f7-48fb-a55f-952981f18b80",
   "metadata": {},
   "outputs": [
    {
     "name": "stdout",
     "output_type": "stream",
     "text": [
      "Total rows in salary data: 1048575\n",
      "Unique employees in salary data: 100412\n"
     ]
    }
   ],
   "source": [
    "## Count total rows and unique employees in salary data\n",
    "print(f\"Total rows in salary data: {sal_df.count()}\")\n",
    "print(f\"Unique employees in salary data: {sal_df.select(countDistinct(\"emp_no\")).collect()[0][0]}\")"
   ]
  },
  {
   "cell_type": "code",
   "execution_count": 20,
   "id": "da2fac36-e51e-4da2-a5ad-6ba362709bc5",
   "metadata": {},
   "outputs": [
    {
     "data": {
      "text/plain": [
       "<Axes: xlabel='salary', ylabel='Count'>"
      ]
     },
     "execution_count": 20,
     "metadata": {},
     "output_type": "execute_result"
    },
    {
     "data": {
      "image/png": "[encoded data removed]",
      "text/plain": [
       "<Figure size 640x480 with 1 Axes>"
      ]
     },
     "metadata": {},
     "output_type": "display_data"
    }
   ],
   "source": [
    "## Plot the salary distribution\n",
    "sal_df_pd = sal_df.toPandas()\n",
    "sns.histplot(sal_df_pd['salary'], kde=True)"
   ]
  },
  {
   "cell_type": "markdown",
   "id": "50d48859-39f7-4967-85b6-53c08fa3568f",
   "metadata": {},
   "source": [
    "# Practice Activity One: Explore the data"
   ]
  },
  {
   "cell_type": "code",
   "execution_count": 22,
   "id": "e6487ce1-b885-4ada-b44e-6fcf3bff48e2",
   "metadata": {},
   "outputs": [
    {
     "name": "stdout",
     "output_type": "stream",
     "text": [
      "+------+----------+----------+---------+------+---------+\n",
      "|emp_no|birth_date|first_name|last_name|gender|hire_date|\n",
      "+------+----------+----------+---------+------+---------+\n",
      "|     0|         0|         0|        0|     0|        0|\n",
      "+------+----------+----------+---------+------+---------+\n",
      "\n"
     ]
    }
   ],
   "source": [
    "## Create a sum of missing values per column in the employees data\n",
    "emp_df.select([sum(col(c).isNull().cast('int')).alias(c) for c in emp_df.columns]).show()"
   ]
  },
  {
   "cell_type": "code",
   "execution_count": 23,
   "id": "70795dbd-e31d-49b6-9c5b-8797a6fd17a2",
   "metadata": {},
   "outputs": [
    {
     "name": "stdout",
     "output_type": "stream",
     "text": [
      "Total rows in employees data: 300024\n"
     ]
    }
   ],
   "source": [
    "## Count the number of rows in the employees data\n",
    "print(f\"Total rows in employees data: {emp_df.count()}\")"
   ]
  },
  {
   "cell_type": "code",
   "execution_count": 24,
   "id": "5ab36f36-0b27-4b94-9464-010b8bd73238",
   "metadata": {},
   "outputs": [
    {
     "name": "stdout",
     "output_type": "stream",
     "text": [
      "Number of unique first names: 1275\n"
     ]
    }
   ],
   "source": [
    "## How many different first names can be found in the employees data?\n",
    "print(f\"Number of unique first names: {emp_df.select('first_name').distinct().count()}\")"
   ]
  },
  {
   "cell_type": "markdown",
   "id": "f73f0f7a-2a23-4ac8-b4b3-e16f8e89c312",
   "metadata": {},
   "source": [
    "# Task Five: Aggregate and summarize the data\n",
    "In this task, you will perform data aggregation and summarization using the salaries data."
   ]
  },
  {
   "cell_type": "code",
   "execution_count": 29,
   "id": "6bebf7cb-6e44-423d-80ff-b2da279c8142",
   "metadata": {
    "scrolled": true
   },
   "outputs": [
    {
     "name": "stdout",
     "output_type": "stream",
     "text": [
      "+-------+------------------+\n",
      "|dept_no|        avg_salary|\n",
      "+-------+------------------+\n",
      "|   d003|55353.520326471196|\n",
      "|   d001| 71901.72367418648|\n",
      "|   d002| 70159.46621971931|\n",
      "|   d004| 59539.78990774039|\n",
      "|   d005| 59503.57499466995|\n",
      "|   d006|57294.657039259815|\n",
      "|   d007| 80776.62039654997|\n",
      "|   d009| 58678.99039635241|\n",
      "|   d008|59866.243526736595|\n",
      "+-------+------------------+\n",
      "\n"
     ]
    }
   ],
   "source": [
    "from pyspark.sql import functions as F\n",
    "\n",
    "## Group the data and calculate the average salary for each department\n",
    "df_summary = sal_df.groupBy(\"dept_no\").agg(avg(\"salary\").alias(\"avg_salary\"))\n",
    "df_summary.show()"
   ]
  },
  {
   "cell_type": "code",
   "execution_count": 33,
   "id": "993ae615-4034-4114-82e7-d3f0a9dffe7f",
   "metadata": {},
   "outputs": [
    {
     "name": "stdout",
     "output_type": "stream",
     "text": [
      "+-------+----------+----------+--------------+\n",
      "|dept_no|avg_salary|max_salary|employee_count|\n",
      "+-------+----------+----------+--------------+\n",
      "|   d005|  59503.57|    144434|         29085|\n",
      "|   d009|  58678.99|    144866|          5910|\n",
      "|   d003|  55353.52|    123674|          6104|\n",
      "|   d001|  71901.72|    143644|          6741|\n",
      "|   d007|  80776.62|    158220|         17682|\n",
      "|   d004|  59539.79|    132552|         25027|\n",
      "|   d002|  70159.47|    134662|          5907|\n",
      "|   d006|  57294.66|    122376|          6751|\n",
      "|   d008|  59866.24|    124181|          7147|\n",
      "+-------+----------+----------+--------------+\n",
      "\n"
     ]
    }
   ],
   "source": [
    "## Get the average salary and number of employees in each department\n",
    "dept_summary = sal_df.groupBy('dept_no').agg(\n",
    "    round(avg('salary'), 2).alias('avg_salary'),\n",
    "    max('salary').alias('max_salary'),\n",
    "    countDistinct('emp_no').alias('employee_count')\n",
    ")\n",
    "\n",
    "dept_summary.show()"
   ]
  },
  {
   "cell_type": "code",
   "execution_count": 38,
   "id": "9ea7a016-d1f4-41fa-88ba-ae9765bc9ec9",
   "metadata": {},
   "outputs": [
    {
     "data": {
      "image/png": "[encoded data removed]",
      "text/plain": [
       "<Figure size 640x480 with 1 Axes>"
      ]
     },
     "metadata": {},
     "output_type": "display_data"
    }
   ],
   "source": [
    "## Convert Spark data frame to Pandas for visualization\n",
    "dept_summary_df = dept_summary.toPandas()\n",
    "\n",
    "## Plot the data\n",
    "dept_summary_df.sort_values(by='employee_count', ascending=False).plot(\n",
    "    kind=\"bar\", x=\"dept_no\", y=\"employee_count\", title=\"Employee count per department\", legend=False)\n",
    "plt.show()"
   ]
  },
  {
   "cell_type": "code",
   "execution_count": 41,
   "id": "73f13853-b247-4493-a892-785be265fded",
   "metadata": {
    "scrolled": true
   },
   "outputs": [
    {
     "name": "stdout",
     "output_type": "stream",
     "text": [
      "+------+--------------+\n",
      "|emp_no|average_salary|\n",
      "+------+--------------+\n",
      "|109334|     141835.33|\n",
      "| 43624|     138492.94|\n",
      "| 37558|     138215.86|\n",
      "| 46439|     135747.73|\n",
      "| 98169|     134374.81|\n",
      "|102962|     134075.82|\n",
      "| 44188|     132560.67|\n",
      "| 66793|     132440.17|\n",
      "| 51531|     132186.43|\n",
      "| 47978|     131890.22|\n",
      "| 80823|      131565.0|\n",
      "| 39964|     131024.33|\n",
      "| 53402|     129764.38|\n",
      "| 56012|     129462.88|\n",
      "| 91935|     129329.53|\n",
      "| 89825|     129105.18|\n",
      "| 41822|     128835.69|\n",
      "| 36219|     128735.25|\n",
      "| 18006|      128619.2|\n",
      "| 18997|      128594.0|\n",
      "+------+--------------+\n",
      "only showing top 20 rows\n",
      "\n"
     ]
    }
   ],
   "source": [
    "## Retrieve a list of employee numbers and the average salary.\n",
    "## Make sure that you return where the average salary is more than $120,000\n",
    "\n",
    "## Group by employee number and calculate the average salary\n",
    "emp_avg_salary = sal_df.groupBy(\"emp_no\") \\\n",
    "    .agg(round(avg(\"salary\"), 2).alias(\"average_salary\")) \\\n",
    "    .filter(col(\"average_salary\") > 120000) \\\n",
    "    .orderBy(\"emp_no\") \\\n",
    "    .orderBy(\"average_salary\", ascending=False)\n",
    "\n",
    "## Show the result\n",
    "emp_avg_salary.show()"
   ]
  },
  {
   "cell_type": "markdown",
   "id": "fa860eae-8548-415c-bc52-e6ace6028f16",
   "metadata": {},
   "source": [
    "# Task Six: Join the data sets\n",
    "In this task, you will join the salaries and employees data using the employees number."
   ]
  },
  {
   "cell_type": "code",
   "execution_count": 52,
   "id": "1ace7be7-7f65-4f3f-a0ab-eabbedb8f025",
   "metadata": {
    "scrolled": true
   },
   "outputs": [
    {
     "name": "stdout",
     "output_type": "stream",
     "text": [
      "+------+----------+----------+---------+------+----------+---+\n",
      "|emp_no|birth_date|first_name|last_name|gender| hire_date|age|\n",
      "+------+----------+----------+---------+------+----------+---+\n",
      "| 10001|1953-09-02|    Georgi|  Facello|     M|1986-06-26| 32|\n",
      "| 10002|1964-06-02|   Bezalel|   Simmel|     F|1985-11-21| 21|\n",
      "| 10003|1959-12-03|     Parto|  Bamford|     M|1986-08-28| 26|\n",
      "| 10004|1954-05-01| Chirstian|  Koblick|     M|1986-12-01| 32|\n",
      "| 10005|1955-01-21|   Kyoichi| Maliniak|     M|1989-09-12| 34|\n",
      "+------+----------+----------+---------+------+----------+---+\n",
      "only showing top 5 rows\n",
      "\n"
     ]
    }
   ],
   "source": [
    "from pyspark.sql import functions as F\n",
    "\n",
    "## Create an age column in the employees data\n",
    "## Age when the employee was hired\n",
    "emp_df = emp_df.withColumn('age', \n",
    "    F.floor(\n",
    "        (F.year('hire_date') - F.year('birth_date')) + \n",
    "        ((F.month('hire_date') - F.month('birth_date')) / 12) + \n",
    "        ((F.dayofmonth('hire_date') - F.dayofmonth('birth_date')) / 365)\n",
    "    )\n",
    ")\n",
    "emp_df.show(5)"
   ]
  },
  {
   "cell_type": "code",
   "execution_count": 54,
   "id": "1bf34ddc",
   "metadata": {},
   "outputs": [
    {
     "name": "stdout",
     "output_type": "stream",
     "text": [
      "+------+----------+----------+---------+------+----------+---+\n",
      "|emp_no|birth_date|first_name|last_name|gender| hire_date|age|\n",
      "+------+----------+----------+---------+------+----------+---+\n",
      "| 10001|1953-09-02|    Georgi|  Facello|     M|1986-06-26| 32|\n",
      "| 10002|1964-06-02|   Bezalel|   Simmel|     F|1985-11-21| 21|\n",
      "| 10003|1959-12-03|     Parto|  Bamford|     M|1986-08-28| 26|\n",
      "| 10004|1954-05-01| Chirstian|  Koblick|     M|1986-12-01| 32|\n",
      "| 10005|1955-01-21|   Kyoichi| Maliniak|     M|1989-09-12| 34|\n",
      "+------+----------+----------+---------+------+----------+---+\n",
      "only showing top 5 rows\n",
      "\n",
      "+------+------+-------+----------+----------+\n",
      "|emp_no|salary|dept_no| from_date|   to_date|\n",
      "+------+------+-------+----------+----------+\n",
      "| 10017| 71380|   d001|1993-08-03|1994-08-03|\n",
      "| 10017| 75538|   d001|1994-08-03|1995-08-03|\n",
      "| 10017| 79510|   d001|1995-08-03|1996-08-02|\n",
      "| 10017| 82163|   d001|1996-08-02|1997-08-02|\n",
      "| 10017| 86157|   d001|1997-08-02|1998-08-02|\n",
      "+------+------+-------+----------+----------+\n",
      "only showing top 5 rows\n",
      "\n"
     ]
    }
   ],
   "source": [
    "emp_df.show(5)\n",
    "sal_df.show(5)"
   ]
  },
  {
   "cell_type": "code",
   "execution_count": 55,
   "id": "b692b74e-bfb3-4ad4-9917-0627efa3870f",
   "metadata": {},
   "outputs": [
    {
     "name": "stdout",
     "output_type": "stream",
     "text": [
      "+------+------+-------+----------+----------+----------+----------+---------+------+----------+---+\n",
      "|emp_no|salary|dept_no| from_date|   to_date|birth_date|first_name|last_name|gender| hire_date|age|\n",
      "+------+------+-------+----------+----------+----------+----------+---------+------+----------+---+\n",
      "|100000| 41408|   d008|1991-07-02|1992-07-01|1956-01-11|  Hiroyasu|    Emden|     M|1991-07-02| 35|\n",
      "|100000| 43119|   d008|1992-07-01|1993-07-01|1956-01-11|  Hiroyasu|    Emden|     M|1991-07-02| 35|\n",
      "|100000| 46991|   d008|1993-07-01|1994-07-01|1956-01-11|  Hiroyasu|    Emden|     M|1991-07-02| 35|\n",
      "|100000| 48751|   d008|1994-07-01|1995-07-01|1956-01-11|  Hiroyasu|    Emden|     M|1991-07-02| 35|\n",
      "|100000| 52001|   d008|1995-07-01|1996-06-30|1956-01-11|  Hiroyasu|    Emden|     M|1991-07-02| 35|\n",
      "|100000| 51503|   d008|1996-06-30|1997-06-30|1956-01-11|  Hiroyasu|    Emden|     M|1991-07-02| 35|\n",
      "|100000| 52930|   d008|1997-06-30|1998-06-30|1956-01-11|  Hiroyasu|    Emden|     M|1991-07-02| 35|\n",
      "|100000| 54693|   d008|1998-06-30|1999-06-30|1956-01-11|  Hiroyasu|    Emden|     M|1991-07-02| 35|\n",
      "|100000| 55956|   d008|1999-06-30|2000-06-29|1956-01-11|  Hiroyasu|    Emden|     M|1991-07-02| 35|\n",
      "|100000| 59534|   d008|2000-06-29|2001-06-29|1956-01-11|  Hiroyasu|    Emden|     M|1991-07-02| 35|\n",
      "+------+------+-------+----------+----------+----------+----------+---------+------+----------+---+\n",
      "only showing top 10 rows\n",
      "\n"
     ]
    },
    {
     "data": {
      "text/plain": [
       "1048575"
      ]
     },
     "execution_count": 55,
     "metadata": {},
     "output_type": "execute_result"
    }
   ],
   "source": [
    "## Join salaries and employees data on 'emp_no'\n",
    "emp_data = sal_df.join(emp_df, on=\"emp_no\", how=\"left\")\n",
    "emp_data = emp_data.orderBy(\"emp_no\")\n",
    "emp_data.show(10)\n",
    "emp_data.count()"
   ]
  },
  {
   "cell_type": "code",
   "execution_count": 58,
   "id": "006d3a34-614e-4fb8-bf6c-e2bd2ce551e4",
   "metadata": {},
   "outputs": [
    {
     "name": "stdout",
     "output_type": "stream",
     "text": [
      "+------+----------+--------------+----------+---+--------------+\n",
      "|emp_no|first_name|     last_name| hire_date|age|average_salary|\n",
      "+------+----------+--------------+----------+---+--------------+\n",
      "|109334|   Tsutomu|     Alameldin|1985-02-15| 29|     141835.33|\n",
      "| 43624|  Tokuyasu|         Pesch|1985-03-26| 31|     138492.94|\n",
      "| 37558| Juichirou|   Thambidurai|1989-02-23| 25|     138215.86|\n",
      "| 46439|    Ibibia|         Junet|1985-05-20| 32|     135747.73|\n",
      "| 98169|   Bedrich|          Luft|1987-01-20| 34|     134374.81|\n",
      "|102962| Chirstian|        Kobara|1985-09-24| 31|     134075.82|\n",
      "| 44188|   Slavian|          Peac|1991-03-16| 30|     132560.67|\n",
      "| 66793|   Lansing|        Kambil|1985-06-20| 21|     132440.17|\n",
      "| 51531|     Clyde|Georgakopoulos|1987-05-17| 25|     132186.43|\n",
      "| 47978|    Xiahua|      Whitcomb|1985-07-18| 29|     131890.22|\n",
      "| 80823|   Willard|          Baca|1985-02-26| 22|      131565.0|\n",
      "| 39964|  Almudena|        Dratva|1991-04-06| 27|     131024.33|\n",
      "| 53402|    Houman|       Worfolk|1986-11-05| 27|     129764.38|\n",
      "| 56012|    Lucien| Schlegelmilch|1987-07-20| 28|     129462.88|\n",
      "| 91935|   Oldrich|          Unni|1988-01-30| 26|     129329.53|\n",
      "| 89825|    Ingmar|         Isard|1986-05-23| 33|     129105.18|\n",
      "| 41822|    Lihong|      Brookner|1990-05-08| 33|     128835.69|\n",
      "| 36219|    Vivian|      Minakawa|1987-07-29| 22|     128735.25|\n",
      "| 18006|     Vidya|      Hanabata|1987-09-03| 34|      128619.2|\n",
      "| 18997|     Basim|   Tischendorf|1990-02-22| 31|      128594.0|\n",
      "+------+----------+--------------+----------+---+--------------+\n",
      "only showing top 20 rows\n",
      "\n"
     ]
    }
   ],
   "source": [
    "## Retrieve a list of employee numbers and the average salary.\n",
    "## Make sure that you return where the average salary is more than $120,000\n",
    "\n",
    "## Group by employee number and calculate the average salary\n",
    "emp_salary_summary = emp_data.groupBy(\"emp_no\") \\\n",
    "    .agg(round(avg(\"salary\"), 2).alias(\"average_salary\")) \\\n",
    "    .filter(col(\"average_salary\") > 120000)\n",
    "\n",
    "## Join the aggregated result back with the original employee data to get first_name, last_name, hire_date\n",
    "emp_salary_summary = emp_salary_summary.join(emp_df, on=\"emp_no\", how=\"left\") \\\n",
    "    .select(\"emp_no\", \"first_name\", \"last_name\", \"hire_date\", \"age\", \"average_salary\") \\\n",
    "    .dropDuplicates([\"emp_no\"]) \\\n",
    "    .orderBy(\"average_salary\", ascending=False)\n",
    "\n",
    "\n",
    "emp_salary_summary.show()"
   ]
  },
  {
   "cell_type": "markdown",
   "id": "966a831e-ba55-4e3b-93d8-e7de726d9091",
   "metadata": {},
   "source": [
    "# Cumulative Activity: Analyze employees' retention\n",
    "\n",
    "As a junior data analyst at a growing company, you are tasked with analyzing employee retention. Your aim is to find departments with the highest amount of employees that have worked longer than ten years. This will assist HR in enhancing employees' engagement and retention strategies. \n",
    "\n",
    "To complete this activity, you will use the employee dataset and create a data frame with the employee totals in each department for a period over 10 years (calculated by from_date and to_date).  Finally, you'll visualize how long-term employees are spread across departments via a bar chart."
   ]
  },
  {
   "cell_type": "code",
   "execution_count": 78,
   "id": "325d89db-5b94-4f43-9501-e53977ffbc5f",
   "metadata": {},
   "outputs": [
    {
     "name": "stdout",
     "output_type": "stream",
     "text": [
      "+------+------+-------+----------+----------+----------+----------+---------+------+----------+---+------------+\n",
      "|emp_no|salary|dept_no| from_date|   to_date|birth_date|first_name|last_name|gender| hire_date|age|years_worked|\n",
      "+------+------+-------+----------+----------+----------+----------+---------+------+----------+---+------------+\n",
      "|100000| 41408|   d008|1991-07-02|1992-07-01|1956-01-11|  Hiroyasu|    Emden|     M|1991-07-02| 35|           1|\n",
      "|100000| 43119|   d008|1992-07-01|1993-07-01|1956-01-11|  Hiroyasu|    Emden|     M|1991-07-02| 35|           1|\n",
      "|100000| 46991|   d008|1993-07-01|1994-07-01|1956-01-11|  Hiroyasu|    Emden|     M|1991-07-02| 35|           1|\n",
      "|100000| 48751|   d008|1994-07-01|1995-07-01|1956-01-11|  Hiroyasu|    Emden|     M|1991-07-02| 35|           1|\n",
      "|100000| 52001|   d008|1995-07-01|1996-06-30|1956-01-11|  Hiroyasu|    Emden|     M|1991-07-02| 35|           1|\n",
      "+------+------+-------+----------+----------+----------+----------+---------+------+----------+---+------------+\n",
      "only showing top 5 rows\n",
      "\n",
      "+------+-------+------------------+\n",
      "|emp_no|dept_no|total_years_worked|\n",
      "+------+-------+------------------+\n",
      "| 85033|   d002|              8014|\n",
      "| 33519|   d001|              8014|\n",
      "| 94233|   d001|              8014|\n",
      "| 20828|   d003|              8014|\n",
      "| 30628|   d001|              8014|\n",
      "+------+-------+------------------+\n",
      "only showing top 5 rows\n",
      "\n"
     ]
    }
   ],
   "source": [
    "from pyspark.sql import functions as F\n",
    "\n",
    "## Calculate the years worked based on the difference between 'to_date' and 'from_date'\n",
    "emp_data = emp_data.withColumn(\"years_worked\", \n",
    "    F.year(\"to_date\") - F.year(\"from_date\")\n",
    ")\n",
    "emp_data.show(5)\n",
    "\n",
    "## Group by emp_no and dept_no to sum the years worked\n",
    "years_worked_summary = emp_data.groupBy(\"emp_no\", \"dept_no\") \\\n",
    "    .agg(sum(\"years_worked\").alias(\"total_years_worked\")) \\\n",
    "    .orderBy(\"total_years_worked\", ascending=False)\n",
    "years_worked_summary.show(5)"
   ]
  },
  {
   "cell_type": "code",
   "execution_count": 77,
   "id": "7e2d0256",
   "metadata": {},
   "outputs": [
    {
     "name": "stdout",
     "output_type": "stream",
     "text": [
      "+------+----------+----------+-------+------------+\n",
      "|emp_no| from_date|   to_date|dept_no|years_worked|\n",
      "+------+----------+----------+-------+------------+\n",
      "| 56941|2001-08-12|9999-01-01|   d003|        7998|\n",
      "| 56941|2001-08-12|9999-01-01|   d001|        7998|\n",
      "| 56941|2000-08-12|2001-08-12|   d003|           1|\n",
      "| 56941|2000-08-12|2001-08-12|   d001|           1|\n",
      "| 56941|1999-08-13|2000-08-12|   d003|           1|\n",
      "| 56941|1999-08-13|2000-08-12|   d001|           1|\n",
      "| 56941|1998-08-13|1999-08-13|   d003|           1|\n",
      "| 56941|1998-08-13|1999-08-13|   d001|           1|\n",
      "| 56941|1997-08-13|1998-08-13|   d003|           1|\n",
      "| 56941|1997-08-13|1998-08-13|   d001|           1|\n",
      "| 56941|1996-08-13|1997-08-13|   d003|           1|\n",
      "| 56941|1996-08-13|1997-08-13|   d001|           1|\n",
      "| 56941|1995-08-14|1996-08-13|   d003|           1|\n",
      "| 56941|1995-08-14|1996-08-13|   d001|           1|\n",
      "| 56941|1994-08-14|1995-08-14|   d003|           1|\n",
      "| 56941|1994-08-14|1995-08-14|   d001|           1|\n",
      "| 56941|1993-08-14|1994-08-14|   d003|           1|\n",
      "| 56941|1993-08-14|1994-08-14|   d001|           1|\n",
      "| 56941|1992-08-14|1993-08-14|   d003|           1|\n",
      "| 56941|1992-08-14|1993-08-14|   d001|           1|\n",
      "+------+----------+----------+-------+------------+\n",
      "only showing top 20 rows\n",
      "\n"
     ]
    }
   ],
   "source": [
    "emp_data.select(\"emp_no\", \"from_date\", \"to_date\", \"dept_no\", \"years_worked\") \\\n",
    "    .where(col(\"emp_no\") == 56941)\\\n",
    "    .orderBy(\"from_date\", \"dept_no\", ascending=False).show()"
   ]
  },
  {
   "cell_type": "code",
   "execution_count": 79,
   "id": "bade01c7-f7ba-4d51-b00b-3c1c02c51399",
   "metadata": {},
   "outputs": [
    {
     "name": "stdout",
     "output_type": "stream",
     "text": [
      "+-------+-------------------+\n",
      "|dept_no|long_term_employees|\n",
      "+-------+-------------------+\n",
      "|   d005|              23863|\n",
      "|   d009|               4822|\n",
      "|   d003|               5048|\n",
      "|   d001|               5583|\n",
      "|   d007|              14537|\n",
      "|   d004|              20580|\n",
      "|   d002|               4828|\n",
      "|   d006|               5549|\n",
      "|   d008|               5886|\n",
      "+-------+-------------------+\n",
      "\n"
     ]
    }
   ],
   "source": [
    "## Filter employees who have worked more than 10 years\n",
    "long_term_employees = years_worked_summary.filter(F.col(\"total_years_worked\") > 10)\n",
    "\n",
    "## Group by department and count distinct employees who worked more than 10 years\n",
    "long_term_count = long_term_employees.groupBy(\"dept_no\").agg(F.countDistinct(\"emp_no\").alias(\"long_term_employees\"))\n",
    "long_term_count.show()\n",
    "\n",
    "## Show the result\n"
   ]
  },
  {
   "cell_type": "code",
   "execution_count": 80,
   "id": "72289f86-e758-4777-bd40-8524ecd38c3a",
   "metadata": {},
   "outputs": [
    {
     "data": {
      "image/png": "[encoded data removed]",
      "text/plain": [
       "<Figure size 1000x600 with 1 Axes>"
      ]
     },
     "metadata": {},
     "output_type": "display_data"
    }
   ],
   "source": [
    "## Convert the Spark data frame to Pandas for visualization\n",
    "long_term_count_pandas = long_term_count.toPandas()\n",
    "\n",
    "## Create a bar chart to visualize the distribution of long-term employees across departments\n",
    "plt.figure(figsize=(10, 6))\n",
    "plt.bar(long_term_count_pandas['dept_no'], long_term_count_pandas['long_term_employees'], color='lightblue')\n",
    "plt.title(\"Distribution of Long-Term Employees Across Departments\")\n",
    "plt.xlabel(\"Department\")\n",
    "plt.ylabel(\"Number of Long-Term Employees\")\n",
    "plt.xticks(rotation=45, ha='right')\n",
    "plt.tight_layout()\n",
    "plt.show()S"
   ]
  }
 ],
 "metadata": {
  "kernelspec": {
   "display_name": "de",
   "language": "python",
   "name": "python3"
  },
  "language_info": {
   "codemirror_mode": {
    "name": "ipython",
    "version": 3
   },
   "file_extension": ".py",
   "mimetype": "text/x-python",
   "name": "python",
   "nbconvert_exporter": "python",
   "pygments_lexer": "ipython3",
   "version": "3.12.8"
  }
 },
 "nbformat": 4,
 "nbformat_minor": 5
}
